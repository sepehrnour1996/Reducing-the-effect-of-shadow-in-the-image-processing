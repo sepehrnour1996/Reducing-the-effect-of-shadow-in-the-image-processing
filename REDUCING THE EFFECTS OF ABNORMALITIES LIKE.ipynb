{
  "nbformat": 4,
  "nbformat_minor": 0,
  "metadata": {
    "colab": {
      "name": "Untitled27.ipynb",
      "provenance": []
    },
    "kernelspec": {
      "name": "python3",
      "display_name": "Python 3"
    }
  },
  "cells": [
    {
      "cell_type": "code",
      "metadata": {
        "colab": {
          "base_uri": "https://localhost:8080/"
        },
        "id": "wIihz_KBjPt5",
        "outputId": "5c18e880-e1bf-4a32-dd02-506e06b0e1c1"
      },
      "source": [
        "import cv2 as cv \n",
        "import numpy as np\n",
        "import pandas as pd\n",
        "from sklearn import preprocessing\n",
        "import matplotlib.pylab as plt\n",
        "from google.colab import drive\n",
        "from google.colab.patches import cv2_imshow\n",
        "\n",
        "drive.mount('/content/drive', force_remount=True)"
      ],
      "execution_count": 165,
      "outputs": [
        {
          "output_type": "stream",
          "text": [
            "Mounted at /content/drive\n"
          ],
          "name": "stdout"
        }
      ]
    },
    {
      "cell_type": "code",
      "metadata": {
        "id": "zUbuaAeYocrc"
      },
      "source": [
        "import sklearn\n",
        "from sklearn import preprocessing"
      ],
      "execution_count": 166,
      "outputs": []
    },
    {
      "cell_type": "code",
      "metadata": {
        "id": "JPiOn8qTqgRe"
      },
      "source": [
        "import csv\n",
        "import itertools\n",
        "\n",
        "with open('/content/drive/MyDrive/X_train.txt', 'r') as in_file:\n",
        "    lines = in_file.read().splitlines()\n",
        "    stripped = [line.replace(\",\",\" \").split() for line in lines]\n",
        "    grouped = zip(*[stripped]*1)\n",
        "    with open('/content/drive/MyDrive/X_train.csv', 'w') as out_file:\n",
        "        writer = csv.writer(out_file)\n",
        "        writer.writerow(('0'))\n",
        "        for group in grouped:\n",
        "            writer.writerows(group)"
      ],
      "execution_count": 167,
      "outputs": []
    },
    {
      "cell_type": "code",
      "metadata": {
        "id": "lPKTGxO6CyS1"
      },
      "source": [
        "import csv\n",
        "import itertools\n",
        "\n",
        "with open('/content/drive/MyDrive/y_train.txt', 'r') as in_file:\n",
        "    lines = in_file.read().splitlines()\n",
        "    stripped = [line.replace(\",\",\" \").split() for line in lines]\n",
        "    grouped = zip(*[stripped]*1)\n",
        "    with open('/content/drive/MyDrive/y_train.csv', 'w') as out_file:\n",
        "        writer = csv.writer(out_file)\n",
        "        writer.writerow(('1'))\n",
        "        for group in grouped:\n",
        "            writer.writerows(group)"
      ],
      "execution_count": 168,
      "outputs": []
    },
    {
      "cell_type": "code",
      "metadata": {
        "id": "xA3vbl4vqxqK"
      },
      "source": [
        "data_train_X = pd.read_csv(\"/content/drive/MyDrive/X_train.csv\") \n",
        "df_train_X=pd.DataFrame(data_train_X)\n",
        "df_train_X=np.array(df_train_X)"
      ],
      "execution_count": 169,
      "outputs": []
    },
    {
      "cell_type": "code",
      "metadata": {
        "id": "WI-HPCAxEDjt"
      },
      "source": [
        "data_train_y = pd.read_csv(\"/content/drive/MyDrive/y_train.csv\") \n",
        "df_train_y=pd.DataFrame(data_train_y)\n",
        "df_train_y=np.array(df_train_y)"
      ],
      "execution_count": 170,
      "outputs": []
    },
    {
      "cell_type": "code",
      "metadata": {
        "id": "17ocdqw4_64u"
      },
      "source": [
        "train_x_flatten = df_train_X.reshape(df_train_X.shape[0], -1).T\n",
        "train_X = train_x_flatten/255\n",
        "#normalized_train_X = preprocessing.normalize(train_x_flatten)\n",
        "#print (\"norlamized_train_X's shape: \" + str(normalized_train_X.shape))"
      ],
      "execution_count": 248,
      "outputs": []
    },
    {
      "cell_type": "code",
      "metadata": {
        "id": "yMrVeBFCD6AN"
      },
      "source": [
        "train_y_flatten = df_train_y.reshape(df_train_y.shape[0], -1)\n",
        "train_y = train_y_flatten/255\n",
        "#normalized_train_y = preprocessing.normalize(train_y_flatten)\n",
        "#print (\"normalized_train_y's shape: \" + str(normalized_train_y.shape))"
      ],
      "execution_count": 249,
      "outputs": []
    },
    {
      "cell_type": "code",
      "metadata": {
        "id": "F58fjpDa0rpj"
      },
      "source": [
        "train_X=train_x_flatten\n",
        "train_y=train_y_flatten\n",
        "#plt.plot(train_X.T, train_y)\n",
        "#for i in range(len(train_y)):\n",
        "#  if train_y[i] == -1:\n",
        "#    train_y[i]=0\n",
        "#  else:\n",
        "#    train_y[i]=1\n",
        "#plt.plot(train_X.T, train_y)"
      ],
      "execution_count": 250,
      "outputs": []
    },
    {
      "cell_type": "code",
      "metadata": {
        "id": "vsjuZ4acPBiC"
      },
      "source": [
        "%matplotlib inline\n",
        "import matplotlib.pyplot as plt"
      ],
      "execution_count": 251,
      "outputs": []
    },
    {
      "cell_type": "code",
      "metadata": {
        "id": "uwwLzoX82aXd"
      },
      "source": [
        "import numpy as np\n",
        "import h5py\n",
        "\n",
        "np.random.seed(1)"
      ],
      "execution_count": 252,
      "outputs": []
    },
    {
      "cell_type": "code",
      "metadata": {
        "id": "K5y5wOik3naV"
      },
      "source": [
        "def initialize_parameters(n_x, n_h, n_y):\n",
        "    \n",
        "    np.random.seed(1)\n",
        "    \n",
        "    ### START CODE HERE ### (~4 lines of code)\n",
        "    #W1 = np.random.randn(n_x, n_h) * np.sqrt(0.0003/n_x)\n",
        "    W1 = np.random.randn(n_h,n_x)*0.01\n",
        "    b1 = np.zeros((n_h,1))\n",
        "    #W2 = np.random.randn(n_h, n_y) * np.sqrt(0.0003/n_h)\n",
        "    W2 = np.random.randn(n_y,n_h)*0.01\n",
        "    b2 = np.zeros((n_y,1))\n",
        "    ### END CODE HERE ###\n",
        "    \n",
        "    assert (W1.shape == (n_h, n_x))\n",
        "    assert (b1.shape == (n_h, 1))\n",
        "    assert (W2.shape == (n_y, n_h))\n",
        "    assert (b2.shape == (n_y, 1))\n",
        "    \n",
        "    parameters = {\"W1\": W1, \"W2\": W2,\n",
        "                  \"b1\": b1, \"b2\": b2}\n",
        "    \n",
        "    return parameters    "
      ],
      "execution_count": 253,
      "outputs": []
    },
    {
      "cell_type": "code",
      "metadata": {
        "id": "IrU4CIlX4iFl"
      },
      "source": [
        "# GRADED FUNCTION: initialize_parameters_deep\n",
        "\n",
        "def initialize_parameters_deep(layer_dims):\n",
        "    \"\"\"\n",
        "    Arguments:\n",
        "    layer_dims -- python array (list) containing the dimensions of each layer in our network\n",
        "    \n",
        "    Returns:\n",
        "    parameters -- python dictionary containing your parameters \"W1\", \"b1\", ..., \"WL\", \"bL\":\n",
        "                    Wl -- weight matrix of shape (layer_dims[l], layer_dims[l-1])\n",
        "                    bl -- bias vector of shape (layer_dims[l], 1)\n",
        "    \"\"\"\n",
        "    \n",
        "    np.random.seed(3)\n",
        "    parameters = {}\n",
        "    L = len(layer_dims)            # number of layers in the network\n",
        "\n",
        "    for l in range(1, L):\n",
        "        ### START CODE HERE ### (≈ 2 lines of code)\n",
        "        parameters['W' + str(l)] = np.random.randn(layer_dims[l],layer_dims[l-1]) * 0.01\n",
        "        parameters['b' + str(l)] = np.zeros((layer_dims[l],1))\n",
        "        ### END CODE HERE ###\n",
        "        \n",
        "        assert (parameters['W' + str(l)].shape == (layer_dims[l], layer_dims[l-1]))\n",
        "        assert (parameters['b' + str(l)].shape == (layer_dims[l], 1))\n",
        "\n",
        "        \n",
        "    return parameters\n"
      ],
      "execution_count": 254,
      "outputs": []
    },
    {
      "cell_type": "code",
      "metadata": {
        "id": "TvOJU6jO4x3m"
      },
      "source": [
        "#EXERCISE 3\n",
        "# GRADED FUNCTION: linear_forward\n",
        "\n",
        "def linear_forward(A, W, b):\n",
        "\n",
        "    ### START CODE HERE ### (≈ 1 line of code)\n",
        "    Z = np.dot(W,A) + b\n",
        "    ### END CODE HERE ###\n",
        "    \n",
        "    assert (Z.shape == (W.shape[0], A.shape[1]))\n",
        "    cache = (A, W, b)\n",
        "    \n",
        "    return Z, cache"
      ],
      "execution_count": 255,
      "outputs": []
    },
    {
      "cell_type": "code",
      "metadata": {
        "id": "KHtVIYyn5bUB"
      },
      "source": [
        "# GRADED FUNCTIONS: Sigmoid, relu, linear_activation_forward\n",
        "\n",
        "def sigmoid(Z):\n",
        "\n",
        "    ### START CODE HERE ### (~1 lines of code)\n",
        "    A = 1.0 / (1 + np.exp(-Z))\n",
        "    ### END CODE HERE ###\n",
        "    cache = Z\n",
        "    \n",
        "    return A, cache\n",
        "\n",
        "\n",
        "def relu(Z):\n",
        "\n",
        "    ### START CODE HERE ### (~1 lines of code)\n",
        "    A = np.maximum(0, Z)\n",
        "    ### END CODE HERE ###\n",
        "    assert (A.shape == Z.shape)\n",
        "    \n",
        "    cache = Z \n",
        "    return A, cache\n",
        "\n",
        "\n",
        "# GRADED FUNCTION: linear_activation_forward\n",
        "\n",
        "def linear_activation_forward(A_prev, W, b, activation):\n",
        "  \n",
        "    if activation == \"sigmoid\":\n",
        "        # Inputs: \"A_prev, W, b\". Outputs: \"A, activation_cache\".\n",
        "        ### START CODE HERE ### (≈ 2 lines of code)\n",
        "        Z, linear_cache = linear_forward(A_prev,W,b)\n",
        "        A, activation_cache = sigmoid(Z)\n",
        "        ### END CODE HERE ###\n",
        "    \n",
        "    elif activation == \"relu\":\n",
        "        # Inputs: \"A_prev, W, b\". Outputs: \"A, activation_cache\".\n",
        "        ### START CODE HERE ### (≈ 2 lines of code)\n",
        "        Z, linear_cache = linear_forward(A_prev,W,b)\n",
        "        A, activation_cache = relu(Z)\n",
        "        ### END CODE HERE ###\n",
        "    \n",
        "    assert (A.shape == (W.shape[0], A_prev.shape[1]))\n",
        "    cache = (linear_cache, activation_cache)\n",
        "\n",
        "    return A, cache"
      ],
      "execution_count": 256,
      "outputs": []
    },
    {
      "cell_type": "code",
      "metadata": {
        "id": "WmnUGD9w5uCv"
      },
      "source": [
        "#EXERCISE 5\n",
        "# GRADED FUNCTION: L_model_forward\n",
        "\n",
        "def L_model_forward(X, parameters):\n",
        "    caches = []\n",
        "    A = X\n",
        "    L = len(parameters) // 2                  # number of layers in the neural network\n",
        "    \n",
        "    # Implement [LINEAR -> RELU]*(L-1). Add \"cache\" to the \"caches\" list.\n",
        "    for l in range(1, L):\n",
        "        A_prev = A \n",
        "        ### START CODE HERE ### (≈ 2 lines of code)\n",
        "        A, cache =linear_activation_forward(A_prev, parameters['W' + str(l)], parameters['b' + str(l)], activation = \"relu\")\n",
        "        caches.append(cache)\n",
        "        ### END CODE HERE ###\n",
        "    \n",
        "    # Implement LINEAR -> SIGMOID. Add \"cache\" to the \"caches\" list.\n",
        "    ### START CODE HERE ### (≈ 2 lines of code)\n",
        "    AL, cache = linear_activation_forward(A, parameters['W' + str(L)],parameters['b' + str(L)], activation = \"sigmoid\")\n",
        "    caches.append(cache)\n",
        "    ### END CODE HERE ###\n",
        "    \n",
        "#    assert (AL.shape == (1,X.shape[1]))\n",
        "            \n",
        "    return AL"
      ],
      "execution_count": 257,
      "outputs": []
    },
    {
      "cell_type": "code",
      "metadata": {
        "id": "nHivUDXt6GTW"
      },
      "source": [
        "#EXERCISE 6\n",
        "# GRADED FUNCTION: compute_cost\n",
        "\n",
        "def compute_cost(AL, Y):\n",
        "\n",
        "    \n",
        "    m = Y.shape[1]\n",
        "\n",
        "    # Compute loss from aL and y.\n",
        "    ### START CODE HERE ### (≈ 1 lines of code)\n",
        "    cost = -1 / m *(np.dot(Y,np.log(AL.T)) + np.dot(1 - Y,np.log(1 - AL).T))\n",
        "    ### END CODE HERE ###\n",
        "    \n",
        "    cost = np.sum(np.squeeze(cost))/m    # To make sure your cost's shape is what we expect (e.g. this turns [[17]] into 17).\n",
        "    assert (cost.shape == ())\n",
        "    \n",
        "    return cost\n"
      ],
      "execution_count": 258,
      "outputs": []
    },
    {
      "cell_type": "code",
      "metadata": {
        "id": "ZjZ3Wijy6aTY"
      },
      "source": [
        "#EXERCISE 7\n",
        "# GRADED FUNCTION: linear_backward\n",
        "\n",
        "def linear_backward(dZ, cache):\n",
        "    A_prev, W, b = cache\n",
        "    m = A_prev.shape[1]\n",
        "\n",
        "    ### START CODE HERE ### (≈ 3 lines of code)\n",
        "    dW = 1 / m * (np.dot(dZ,A_prev.T))\n",
        "    db = 1 / m * (np.sum(dZ,axis = 1,keepdims = True))\n",
        "    dA_prev = np.dot(W.T,dZ)\n",
        "    ### END CODE HERE ###\n",
        "    \n",
        "    assert (dA_prev.shape == A_prev.shape)\n",
        "    assert (dW.shape == W.shape)\n",
        "    assert (db.shape == b.shape)\n",
        "    \n",
        "    return dA_prev, dW, db"
      ],
      "execution_count": 259,
      "outputs": []
    },
    {
      "cell_type": "code",
      "metadata": {
        "id": "1sAZI_3Q62pU"
      },
      "source": [
        "#EXERCISE 8\n",
        "def relu_backward(dA, cache):\n",
        "\n",
        "    Z = cache\n",
        "    dZ = np.array(dA, copy=True) # just converting dz to a correct object.\n",
        "    \n",
        "    # When z <= 0, you should set dz to 0 as well. \n",
        "    dZ[Z <= 0] = 0\n",
        "    \n",
        "    assert (dZ.shape == Z.shape)\n",
        "    \n",
        "    return dZ\n",
        "\n",
        "\n",
        "def sigmoid_backward(dA, cache):\n",
        "\n",
        "    Z = cache\n",
        "    \n",
        "    s = 1/(1+np.exp(-Z))\n",
        "    np.reshape(dA.T,(1,np.product(dA.shape)))\n",
        "    np.reshape(s,(1,np.product(s.shape)))\n",
        "    dZ = dA * s * (1-s)\n",
        "    \n",
        "    assert (dZ.shape == Z.shape)\n",
        "    \n",
        "    return dZ\n",
        "\n",
        "\n",
        "\n",
        "\n",
        "\n",
        "# GRADED FUNCTION: linear_activation_backward\n",
        "\n",
        "def linear_activation_backward(dA, cache, activation):\n",
        "    \n",
        "    linear_cache, activation_cache = cache\n",
        "    \n",
        "    if activation == \"relu\":\n",
        "        ### START CODE HERE ### (≈ 2 lines of code)\n",
        "        dZ = relu_backward(dA,activation_cache)\n",
        "        dA_prev, dW, db = linear_backward(dZ,linear_cache)\n",
        "        ### END CODE HERE ###\n",
        "    elif activation == \"linear\":\n",
        "      dA_prev, dW, db = linear_backward(dZ,linear_cache)\n",
        "      \n",
        "        \n",
        "    elif activation == \"sigmoid\":\n",
        "        ### START CODE HERE ### (≈ 2 lines of code)\n",
        "        dZ = sigmoid_backward(dA,activation_cache)\n",
        "        dA_prev, dW, db = linear_backward(dZ,linear_cache)\n",
        "        ### END CODE HERE ###\n",
        "    \n",
        "    return dA_prev, dW, db\n"
      ],
      "execution_count": 260,
      "outputs": []
    },
    {
      "cell_type": "code",
      "metadata": {
        "id": "8WUKyTUCBHnj"
      },
      "source": [
        "#EXERCISE 9\n",
        "# GRADED FUNCTION: L_model_backward\n",
        "def L_model_backward(AL, Y, caches):\n",
        "  \n",
        "    grads = {}\n",
        "    L = len(caches) # the number of layers\n",
        "    m = AL.shape[1]\n",
        "    Y = Y.reshape(AL.shape) # after this line, Y is the same shape as AL\n",
        "    \n",
        "    # Initializing the backpropagation\n",
        "    ### START CODE HERE ### (1 line of code)\n",
        "    dAL = - (np.divide(Y, AL) - np.divide(1 - Y, 1 - AL))\n",
        "    ### END CODE HERE ###\n",
        "    \n",
        "    # Lth layer (SIGMOID -> LINEAR) gradients. Inputs: \"AL, Y, caches\". Outputs: \"grads[\"dAL\"], grads[\"dWL\"], grads[\"dbL\"]\n",
        "    ### START CODE HERE ### (approx. 2 lines)\n",
        "    current_cache = caches[L-1]\n",
        "    grads[\"dA\" + str(L)], grads[\"dW\" + str(L)], grads[\"db\" + str(L)] = linear_activation_backward(dAL, current_cache, activation = \"sigmoid\")\n",
        "    ### END CODE HERE ###\n",
        "    \n",
        "    for l in reversed(range(L-1)):\n",
        "        # lth layer: (RELU -> LINEAR) gradients.\n",
        "        # Inputs: \"grads[\"dA\" + str(l + 2)], caches\". Outputs: \"grads[\"dA\" + str(l + 1)] , grads[\"dW\" + str(l + 1)] , grads[\"db\" + str(l + 1)] \n",
        "        ### START CODE HERE ### (approx. 5 lines)\n",
        "        current_cache = caches[l]\n",
        "        dA_prev_temp, dW_temp, db_temp =linear_activation_backward(grads[\"dA\" + str(l+1)], current_cache, activation = \"linear\")\n",
        "        grads[\"dA\" + str(l + 1)] = dA_prev_temp\n",
        "        grads[\"dW\" + str(l + 1)] = dW_temp\n",
        "        grads[\"db\" + str(l + 1)] = db_temp\n",
        "        ### END CODE HERE ###\n",
        "\n",
        "    return grads\n",
        "\n"
      ],
      "execution_count": 261,
      "outputs": []
    },
    {
      "cell_type": "code",
      "metadata": {
        "id": "QoVUZmhs7cdX"
      },
      "source": [
        "#EXERCISE 10\n",
        "# GRADED FUNCTION: update_parameters\n",
        "\n",
        "def update_parameters(parameters, grads, learning_rate):\n",
        "    L = len(parameters) // 2 # number of layers in the neural network\n",
        "\n",
        "    # Update rule for each parameter. Use a for loop.\n",
        "    ### START CODE HERE ### (≈ 3 lines of code)\n",
        "    for l in range(L):\n",
        "        parameters[\"W\" + str(l+1)] = parameters[\"W\" + str(l+1)] - learning_rate * grads[\"dW\"+ str(l+1)]\n",
        "        parameters[\"b\" + str(l+1)] = parameters[\"b\" + str(l+1)] - learning_rate * grads[\"db\"+ str(l+1)]\n",
        "    ### END CODE HERE ###\n",
        "        \n",
        "    return parameters\n"
      ],
      "execution_count": 262,
      "outputs": []
    },
    {
      "cell_type": "code",
      "metadata": {
        "colab": {
          "base_uri": "https://localhost:8080/"
        },
        "id": "nITLHTEgJtcb",
        "outputId": "8a17a6e9-6809-495b-9553-82357d001b0d"
      },
      "source": [
        "len(np.transpose(train_X))"
      ],
      "execution_count": 263,
      "outputs": [
        {
          "output_type": "execute_result",
          "data": {
            "text/plain": [
              "60"
            ]
          },
          "metadata": {
            "tags": []
          },
          "execution_count": 263
        }
      ]
    },
    {
      "cell_type": "code",
      "metadata": {
        "id": "h0JTBUeeEZTv"
      },
      "source": [
        "n_x = 60    # num_px * num_px * 3\n",
        "n_h = 2\n",
        "n_y = 60\n",
        "layers_dims = (n_x, n_h, n_y)"
      ],
      "execution_count": 264,
      "outputs": []
    },
    {
      "cell_type": "code",
      "metadata": {
        "id": "RJUdzFq2EkJm"
      },
      "source": [
        "def two_layer_model(X, Y, layers_dims, learning_rate =0.01, num_iterations=3000 , print_cost=False):\n",
        "    np.random.seed(1)\n",
        "    grads = {}\n",
        "    costs = []                              # to keep track of the cost\n",
        "    m = X.shape[1]                           # number of examples\n",
        "    (n_x, n_h, n_y) = layers_dims\n",
        "    \n",
        "    # Initialize parameters dictionary, by calling one of the functions you'd previously implemented\n",
        "    ### START CODE HERE ### (≈ 1 line of code)\n",
        "    parameters = initialize_parameters(n_x, n_h, n_y)\n",
        "    ### END CODE HERE ###\n",
        "    \n",
        "    # Get W1, b1, W2 and b2 from the dictionary parameters.\n",
        "    W1 = parameters[\"W1\"]\n",
        "    b1 = parameters[\"b1\"]\n",
        "    W2 = parameters[\"W2\"]\n",
        "    b2 = parameters[\"b2\"]\n",
        "    \n",
        "    # Loop (gradient descent)\n",
        "\n",
        "    for i in range(0, num_iterations):\n",
        "\n",
        "        # Forward propagation: LINEAR -> RELU -> LINEAR -> SIGMOID. Inputs: \"X, W1, b1\". Output: \"A1, cache1, A2, cache2\".\n",
        "        ### START CODE HERE ### (≈ 2 lines of code)\n",
        "        A1, cache1 = linear_activation_forward(X, W1, b1, activation = \"relu\")\n",
        "        A2, cache2 = linear_activation_forward(A1, W2, b2, activation = \"sigmoid\")\n",
        "        ### END CODE HERE ###\n",
        "        \n",
        "        # Compute cost\n",
        "        ### START CODE HERE ### (≈ 1 line of code)\n",
        "        cost = compute_cost(A2, Y)\n",
        "        ### END CODE HERE ###\n",
        "        \n",
        "        # Initializing backward propagation\n",
        "        dA2 = - (np.divide(Y, A2) - np.divide(1 - Y, 1 - A2))\n",
        "        \n",
        "        # Backward propagation. Inputs: \"dA2, cache2, cache1\". Outputs: \"dA1, dW2, db2; also dA0 (not used), dW1, db1\".\n",
        "        ### START CODE HERE ### (≈ 2 lines of code)\n",
        "        dA1, dW2, db2 = linear_activation_backward(dA2, cache2, activation = \"sigmoid\")\n",
        "        dA0, dW1, db1 = linear_activation_backward(dA1, cache1, activation = \"relu\")\n",
        "        ### END CODE HERE ###\n",
        "        \n",
        "        # Set grads['dWl'] to dW1, grads['db1'] to db1, grads['dW2'] to dW2, grads['db2'] to db2\n",
        "        grads['dW1'] = dW1\n",
        "        grads['db1'] = db1\n",
        "        grads['dW2'] = dW2\n",
        "        grads['db2'] = db2\n",
        "        \n",
        "        # Update parameters.\n",
        "        ### START CODE HERE ### (approx. 1 line of code)\n",
        "        parameters = update_parameters(parameters, grads, learning_rate)\n",
        "        ### END CODE HERE ###\n",
        "\n",
        "        # Retrieve W1, b1, W2, b2 from parameters\n",
        "        W1 = parameters[\"W1\"]\n",
        "        b1 = parameters[\"b1\"]\n",
        "        W2 = parameters[\"W2\"]\n",
        "        b2 = parameters[\"b2\"]\n",
        "        \n",
        "        # Print the cost every 100 training example\n",
        "        if print_cost and i % 100 == 0:\n",
        "            print(\"Cost after iteration {}: {}\".format(i, np.squeeze(cost)))\n",
        "        if print_cost and i % 100 == 0:\n",
        "            costs.append(cost)\n",
        "           # plot the cost\n",
        "\n",
        "    plt.plot(np.squeeze(costs))\n",
        "    plt.ylabel('cost')\n",
        "    plt.xlabel('iterations (per tens)')\n",
        "    plt.title(\"Learning rate =\" + str(learning_rate))\n",
        "    plt.show()\n",
        "    \n",
        "    return parameters\n",
        "\n"
      ],
      "execution_count": 265,
      "outputs": []
    },
    {
      "cell_type": "code",
      "metadata": {
        "colab": {
          "base_uri": "https://localhost:8080/",
          "height": 601
        },
        "id": "s5pFbocaEr_I",
        "outputId": "b6a30be4-a035-4c80-be65-405e53d66856"
      },
      "source": [
        "parameters = two_layer_model(np.transpose(train_X), train_y, layers_dims = (n_x, n_h, n_y), num_iterations = 1100, print_cost=True)"
      ],
      "execution_count": 266,
      "outputs": [
        {
          "output_type": "stream",
          "text": [
            "Cost after iteration 0: 2495.3298500158025\n",
            "Cost after iteration 100: nan\n",
            "Cost after iteration 200: nan\n",
            "Cost after iteration 300: nan\n",
            "Cost after iteration 400: nan\n",
            "Cost after iteration 500: nan\n",
            "Cost after iteration 600: nan\n",
            "Cost after iteration 700: nan\n",
            "Cost after iteration 800: nan\n",
            "Cost after iteration 900: nan\n",
            "Cost after iteration 1000: nan\n"
          ],
          "name": "stdout"
        },
        {
          "output_type": "stream",
          "text": [
            "/usr/local/lib/python3.6/dist-packages/ipykernel_launcher.py:11: RuntimeWarning: divide by zero encountered in log\n",
            "  # This is added back by InteractiveShellApp.init_path()\n",
            "/usr/local/lib/python3.6/dist-packages/numpy/core/fromnumeric.py:90: RuntimeWarning: invalid value encountered in reduce\n",
            "  return ufunc.reduce(obj, axis, dtype, out, **passkwargs)\n",
            "/usr/local/lib/python3.6/dist-packages/ipykernel_launcher.py:35: RuntimeWarning: divide by zero encountered in true_divide\n",
            "/usr/local/lib/python3.6/dist-packages/ipykernel_launcher.py:22: RuntimeWarning: invalid value encountered in multiply\n",
            "/usr/local/lib/python3.6/dist-packages/ipykernel_launcher.py:35: RuntimeWarning: overflow encountered in true_divide\n"
          ],
          "name": "stderr"
        },
        {
          "output_type": "display_data",
          "data": {
            "image/png": "[encoded data removed]",
            "text/plain": [
              "<Figure size 432x288 with 1 Axes>"
            ]
          },
          "metadata": {
            "tags": [],
            "needs_background": "light"
          }
        }
      ]
    },
    {
      "cell_type": "code",
      "metadata": {
        "id": "3A7OHGRo7vK7"
      },
      "source": [
        "##CONCLUSION\n",
        "def predict(X, y, parameters):\n",
        " \n",
        "\n",
        "    m = X.shape[1]\n",
        "    n = len(parameters) // 2 # number of layers in the neural network\n",
        "    p = np.zeros((1,m))\n",
        "    \n",
        "    # Forward propagation\n",
        "    probas, caches = L_model_forward(X, parameters)\n",
        " \n",
        "    # convert probas to 0/1 predictions\n",
        "    for i in range(0, probas.shape[1]):\n",
        "        if probas[0,i] > 0.5:\n",
        "            p[0,i] = 1\n",
        "        else:\n",
        "            p[0,i] = 0\n",
        "    \n",
        "    #print(results)\n",
        "    print(\"predictions: \" + str(p))\n",
        "    print(\"true labels: \" + str(y))\n",
        "    print(\"Accuracy: \"  + str(np.sum((p == y)/m)))\n",
        "        \n",
        "    return p\n"
      ],
      "execution_count": 267,
      "outputs": []
    },
    {
      "cell_type": "code",
      "metadata": {
        "id": "T3ZRPIurXpUs"
      },
      "source": [
        "W1=parameters[\"W1\"]\n",
        "W2=parameters[\"W2\"]\n",
        "b1=parameters[\"b1\"]\n",
        "b2=parameters[\"b2\"]"
      ],
      "execution_count": 268,
      "outputs": []
    },
    {
      "cell_type": "code",
      "metadata": {
        "colab": {
          "base_uri": "https://localhost:8080/",
          "height": 282
        },
        "id": "p9qz4qGGRDY_",
        "outputId": "da626e34-33c5-4c60-f72d-1031c0e6f4e4"
      },
      "source": [
        "Z1=np.dot(W1,np.transpose(train_X)) + b1\n",
        "Z1.shape\n",
        "#W2.shape\n",
        "X=np.transpose(train_X)\n",
        "y=train_y\n",
        "Z2=np.dot(W2,Z1) +  b2\n",
        "plt.plot(X, Z2+3,'*')\n",
        "plt.plot(X,y*5)\n",
        "error=np.sum(Z2-y)/len(y)\n",
        "Accuracy=1-error/100\n",
        "Accuracy"
      ],
      "execution_count": 269,
      "outputs": [
        {
          "output_type": "execute_result",
          "data": {
            "text/plain": [
              "nan"
            ]
          },
          "metadata": {
            "tags": []
          },
          "execution_count": 269
        },
        {
          "output_type": "display_data",
          "data": {
            "image/png": "[encoded data removed]",
            "text/plain": [
              "<Figure size 432x288 with 1 Axes>"
            ]
          },
          "metadata": {
            "tags": [],
            "needs_background": "light"
          }
        }
      ]
    },
    {
      "cell_type": "code",
      "metadata": {
        "id": "Ksy6jzQig3ND"
      },
      "source": [
        "caches = []\n",
        "A = np.transpose(train_X)\n",
        "L = len(parameters) // 2                 \n",
        "\n",
        "for l in range(1, L):\n",
        "   \n",
        "  A_prev = A \n",
        "  A, cache = linear_forward(A_prev,parameters['W' + str(l)] ,parameters['b' + str(l)])#linear_activation_forward(A_prev, parameters['W' + str(l)], parameters['b' + str(l)], activation = \"relu\")\n",
        "  caches.append(cache)\n",
        "\n",
        "AL, cache = linear_activation_forward(A, parameters['W' + str(L)],parameters['b' + str(L)], activation = \"sigmoid\")\n",
        "caches.append(cache)"
      ],
      "execution_count": 270,
      "outputs": []
    },
    {
      "cell_type": "code",
      "metadata": {
        "id": "jqCJwUizhIIx",
        "colab": {
          "base_uri": "https://localhost:8080/"
        },
        "outputId": "3c181ecc-cf3c-4b6b-d22a-604a2a2fa903"
      },
      "source": [
        "#error rate\n",
        "MSE=np.sum((AL-train_y)**2)/len(train_y)\n",
        "MSE"
      ],
      "execution_count": 271,
      "outputs": [
        {
          "output_type": "execute_result",
          "data": {
            "text/plain": [
              "nan"
            ]
          },
          "metadata": {
            "tags": []
          },
          "execution_count": 271
        }
      ]
    },
    {
      "cell_type": "code",
      "metadata": {
        "colab": {
          "base_uri": "https://localhost:8080/"
        },
        "id": "1NeWk7cQf3x5",
        "outputId": "3d96c65b-0fdc-49f5-eefb-de6b5e692deb"
      },
      "source": [
        "parameters['W1'].shape\n",
        "A_prev.shape"
      ],
      "execution_count": 272,
      "outputs": [
        {
          "output_type": "execute_result",
          "data": {
            "text/plain": [
              "(60, 1)"
            ]
          },
          "metadata": {
            "tags": []
          },
          "execution_count": 272
        }
      ]
    },
    {
      "cell_type": "code",
      "metadata": {
        "id": "l07egXMAfETa"
      },
      "source": [
        "A = np.transpose(train_X)\n",
        "L = len(parameters) // 2     \n",
        "A_prev=A\n",
        "A,cache= linear_forward(A_prev,W1 ,b1)#linear_activation_forward(A_prev, parameters['W1'], parameters['b1'], activation = \"relu\")\n",
        "caches.append(cache)\n",
        "AL,cache= linear_activation_forward(A, parameters['W2'],parameters['b2'], activation = \"sigmoid\")\n",
        "caches.append(cache)\n"
      ],
      "execution_count": 273,
      "outputs": []
    },
    {
      "cell_type": "code",
      "metadata": {
        "colab": {
          "base_uri": "https://localhost:8080/",
          "height": 282
        },
        "id": "5Z-tC0YIdJag",
        "outputId": "02600736-aefb-41ad-b368-ea6aeda27e1f"
      },
      "source": [
        "plt.plot(X, AL,'o')\n",
        "plt.plot(X,y)"
      ],
      "execution_count": 274,
      "outputs": [
        {
          "output_type": "execute_result",
          "data": {
            "text/plain": [
              "[<matplotlib.lines.Line2D at 0x7f61fa30b908>]"
            ]
          },
          "metadata": {
            "tags": []
          },
          "execution_count": 274
        },
        {
          "output_type": "display_data",
          "data": {
            "image/png": "[encoded data removed]",
            "text/plain": [
              "<Figure size 432x288 with 1 Axes>"
            ]
          },
          "metadata": {
            "tags": [],
            "needs_background": "light"
          }
        }
      ]
    },
    {
      "cell_type": "code",
      "metadata": {
        "id": "Scqxcri7K2Vl"
      },
      "source": [
        "import csv\n",
        "import itertools\n",
        "\n",
        "with open('/content/drive/MyDrive/X_test.txt', 'r') as in_file:\n",
        "    lines = in_file.read().splitlines()\n",
        "    stripped = [line.replace(\",\",\" \").split() for line in lines]\n",
        "    grouped = zip(*[stripped]*1)\n",
        "    with open('/content/drive/MyDrive/X_test.csv', 'w') as out_file:\n",
        "        writer = csv.writer(out_file)\n",
        "        writer.writerow(('0'))\n",
        "        for group in grouped:\n",
        "            writer.writerows(group)"
      ],
      "execution_count": 275,
      "outputs": []
    },
    {
      "cell_type": "code",
      "metadata": {
        "id": "S5ArLZJsK24A"
      },
      "source": [
        "import csv\n",
        "import itertools\n",
        "\n",
        "with open('/content/drive/MyDrive/y_test.txt', 'r') as in_file:\n",
        "    lines = in_file.read().splitlines()\n",
        "    stripped = [line.replace(\",\",\" \").split() for line in lines]\n",
        "    grouped = zip(*[stripped]*1)\n",
        "    with open('/content/drive/MyDrive/y_test.csv', 'w') as out_file:\n",
        "        writer = csv.writer(out_file)\n",
        "        writer.writerow(('0'))\n",
        "        for group in grouped:\n",
        "            writer.writerows(group)"
      ],
      "execution_count": 276,
      "outputs": []
    },
    {
      "cell_type": "code",
      "metadata": {
        "id": "-4T8ZsW3LBxL"
      },
      "source": [
        "data_test_X = pd.read_csv(\"/content/drive/MyDrive/X_test.csv\") \n",
        "df_test_X=pd.DataFrame(data_test_X)\n",
        "df_test_X=np.array(df_test_X)"
      ],
      "execution_count": 277,
      "outputs": []
    },
    {
      "cell_type": "code",
      "metadata": {
        "id": "syqr7lzPLDMK"
      },
      "source": [
        "data_test_y = pd.read_csv(\"/content/drive/MyDrive/y_test.csv\") \n",
        "df_test_y=pd.DataFrame(data_test_y)\n",
        "df_test_y=np.array(df_test_y)"
      ],
      "execution_count": 278,
      "outputs": []
    },
    {
      "cell_type": "code",
      "metadata": {
        "id": "IO2xhTbULYnq",
        "colab": {
          "base_uri": "https://localhost:8080/"
        },
        "outputId": "8d60aaee-80be-4dfc-e444-f700c21527c5"
      },
      "source": [
        "test_x_flatten = df_test_X.reshape(df_test_X.shape[0], -1)\n",
        "test_X = test_x_flatten/255\n",
        "\n",
        "print (\"test_X's shape: \" + str(test_X.shape))"
      ],
      "execution_count": 279,
      "outputs": [
        {
          "output_type": "stream",
          "text": [
            "test_X's shape: (41, 1)\n"
          ],
          "name": "stdout"
        }
      ]
    },
    {
      "cell_type": "code",
      "metadata": {
        "id": "d-RfftfaLY-J",
        "colab": {
          "base_uri": "https://localhost:8080/"
        },
        "outputId": "6789bae0-49fa-4eab-efbd-8e961043b062"
      },
      "source": [
        "test_y_flatten = df_test_y.reshape(df_test_y.shape[0], -1)\n",
        "test_y = test_y_flatten/255\n",
        "\n",
        "print (\"test_y's shape: \" + str(test_y.shape))"
      ],
      "execution_count": 280,
      "outputs": [
        {
          "output_type": "stream",
          "text": [
            "test_y's shape: (41, 1)\n"
          ],
          "name": "stdout"
        }
      ]
    },
    {
      "cell_type": "code",
      "metadata": {
        "id": "UMssd9XXu3S2",
        "colab": {
          "base_uri": "https://localhost:8080/",
          "height": 285
        },
        "outputId": "6e0b5a25-578a-4644-ca56-5c9af5d76d58"
      },
      "source": [
        "plt.plot(test_X,test_y)"
      ],
      "execution_count": 281,
      "outputs": [
        {
          "output_type": "execute_result",
          "data": {
            "text/plain": [
              "[<matplotlib.lines.Line2D at 0x7f61fa29bb70>]"
            ]
          },
          "metadata": {
            "tags": []
          },
          "execution_count": 281
        },
        {
          "output_type": "display_data",
          "data": {
            "image/png": "[encoded data removed]",
            "text/plain": [
              "<Figure size 432x288 with 1 Axes>"
            ]
          },
          "metadata": {
            "tags": [],
            "needs_background": "light"
          }
        }
      ]
    },
    {
      "cell_type": "code",
      "metadata": {
        "id": "m0LFlkI4vXfm"
      },
      "source": [
        "W1=parameters['W1']"
      ],
      "execution_count": 282,
      "outputs": []
    },
    {
      "cell_type": "code",
      "metadata": {
        "id": "cOUi9faghm_p",
        "colab": {
          "base_uri": "https://localhost:8080/",
          "height": 408
        },
        "outputId": "3d985f3b-5e1a-4475-ec59-dc4db69efe84"
      },
      "source": [
        "caches = []\n",
        "A = test_X\n",
        "L = len(parameters) // 2                  # number of layers in the neural network\n",
        "\n",
        "\n",
        "   \n",
        "A_prev = A \n",
        "A, cache = linear_activation_forward(A_prev, parameters['W1'], parameters['b1'][0:40], activation = \"relu\")\n",
        "caches.append(cache)\n",
        "\n",
        "AL, cache = linear_activation_forward(A, parameters['W2'],parameters['b2'], activation = \"sigmoid\")\n",
        "caches.append(cache)"
      ],
      "execution_count": 283,
      "outputs": [
        {
          "output_type": "error",
          "ename": "ValueError",
          "evalue": "ignored",
          "traceback": [
            "\u001b[0;31m---------------------------------------------------------------------------\u001b[0m",
            "\u001b[0;31mValueError\u001b[0m                                Traceback (most recent call last)",
            "\u001b[0;32m<ipython-input-283-51bcee923130>\u001b[0m in \u001b[0;36m<module>\u001b[0;34m()\u001b[0m\n\u001b[1;32m      6\u001b[0m \u001b[0;34m\u001b[0m\u001b[0m\n\u001b[1;32m      7\u001b[0m \u001b[0mA_prev\u001b[0m \u001b[0;34m=\u001b[0m \u001b[0mA\u001b[0m\u001b[0;34m\u001b[0m\u001b[0;34m\u001b[0m\u001b[0m\n\u001b[0;32m----> 8\u001b[0;31m \u001b[0mA\u001b[0m\u001b[0;34m,\u001b[0m \u001b[0mcache\u001b[0m \u001b[0;34m=\u001b[0m \u001b[0mlinear_activation_forward\u001b[0m\u001b[0;34m(\u001b[0m\u001b[0mA_prev\u001b[0m\u001b[0;34m,\u001b[0m \u001b[0mparameters\u001b[0m\u001b[0;34m[\u001b[0m\u001b[0;34m'W1'\u001b[0m\u001b[0;34m]\u001b[0m\u001b[0;34m,\u001b[0m \u001b[0mparameters\u001b[0m\u001b[0;34m[\u001b[0m\u001b[0;34m'b1'\u001b[0m\u001b[0;34m]\u001b[0m\u001b[0;34m[\u001b[0m\u001b[0;36m0\u001b[0m\u001b[0;34m:\u001b[0m\u001b[0;36m40\u001b[0m\u001b[0;34m]\u001b[0m\u001b[0;34m,\u001b[0m \u001b[0mactivation\u001b[0m \u001b[0;34m=\u001b[0m \u001b[0;34m\"relu\"\u001b[0m\u001b[0;34m)\u001b[0m\u001b[0;34m\u001b[0m\u001b[0;34m\u001b[0m\u001b[0m\n\u001b[0m\u001b[1;32m      9\u001b[0m \u001b[0mcaches\u001b[0m\u001b[0;34m.\u001b[0m\u001b[0mappend\u001b[0m\u001b[0;34m(\u001b[0m\u001b[0mcache\u001b[0m\u001b[0;34m)\u001b[0m\u001b[0;34m\u001b[0m\u001b[0;34m\u001b[0m\u001b[0m\n\u001b[1;32m     10\u001b[0m \u001b[0;34m\u001b[0m\u001b[0m\n",
            "\u001b[0;32m<ipython-input-256-8dd73ffae0ae>\u001b[0m in \u001b[0;36mlinear_activation_forward\u001b[0;34m(A_prev, W, b, activation)\u001b[0m\n\u001b[1;32m     36\u001b[0m         \u001b[0;31m# Inputs: \"A_prev, W, b\". Outputs: \"A, activation_cache\".\u001b[0m\u001b[0;34m\u001b[0m\u001b[0;34m\u001b[0m\u001b[0;34m\u001b[0m\u001b[0m\n\u001b[1;32m     37\u001b[0m         \u001b[0;31m### START CODE HERE ### (≈ 2 lines of code)\u001b[0m\u001b[0;34m\u001b[0m\u001b[0;34m\u001b[0m\u001b[0;34m\u001b[0m\u001b[0m\n\u001b[0;32m---> 38\u001b[0;31m         \u001b[0mZ\u001b[0m\u001b[0;34m,\u001b[0m \u001b[0mlinear_cache\u001b[0m \u001b[0;34m=\u001b[0m \u001b[0mlinear_forward\u001b[0m\u001b[0;34m(\u001b[0m\u001b[0mA_prev\u001b[0m\u001b[0;34m,\u001b[0m\u001b[0mW\u001b[0m\u001b[0;34m,\u001b[0m\u001b[0mb\u001b[0m\u001b[0;34m)\u001b[0m\u001b[0;34m\u001b[0m\u001b[0;34m\u001b[0m\u001b[0m\n\u001b[0m\u001b[1;32m     39\u001b[0m         \u001b[0mA\u001b[0m\u001b[0;34m,\u001b[0m \u001b[0mactivation_cache\u001b[0m \u001b[0;34m=\u001b[0m \u001b[0mrelu\u001b[0m\u001b[0;34m(\u001b[0m\u001b[0mZ\u001b[0m\u001b[0;34m)\u001b[0m\u001b[0;34m\u001b[0m\u001b[0;34m\u001b[0m\u001b[0m\n\u001b[1;32m     40\u001b[0m         \u001b[0;31m### END CODE HERE ###\u001b[0m\u001b[0;34m\u001b[0m\u001b[0;34m\u001b[0m\u001b[0;34m\u001b[0m\u001b[0m\n",
            "\u001b[0;32m<ipython-input-255-cb0b29c73167>\u001b[0m in \u001b[0;36mlinear_forward\u001b[0;34m(A, W, b)\u001b[0m\n\u001b[1;32m      5\u001b[0m \u001b[0;34m\u001b[0m\u001b[0m\n\u001b[1;32m      6\u001b[0m     \u001b[0;31m### START CODE HERE ### (≈ 1 line of code)\u001b[0m\u001b[0;34m\u001b[0m\u001b[0;34m\u001b[0m\u001b[0;34m\u001b[0m\u001b[0m\n\u001b[0;32m----> 7\u001b[0;31m     \u001b[0mZ\u001b[0m \u001b[0;34m=\u001b[0m \u001b[0mnp\u001b[0m\u001b[0;34m.\u001b[0m\u001b[0mdot\u001b[0m\u001b[0;34m(\u001b[0m\u001b[0mW\u001b[0m\u001b[0;34m,\u001b[0m\u001b[0mA\u001b[0m\u001b[0;34m)\u001b[0m \u001b[0;34m+\u001b[0m \u001b[0mb\u001b[0m\u001b[0;34m\u001b[0m\u001b[0;34m\u001b[0m\u001b[0m\n\u001b[0m\u001b[1;32m      8\u001b[0m     \u001b[0;31m### END CODE HERE ###\u001b[0m\u001b[0;34m\u001b[0m\u001b[0;34m\u001b[0m\u001b[0;34m\u001b[0m\u001b[0m\n\u001b[1;32m      9\u001b[0m \u001b[0;34m\u001b[0m\u001b[0m\n",
            "\u001b[0;32m<__array_function__ internals>\u001b[0m in \u001b[0;36mdot\u001b[0;34m(*args, **kwargs)\u001b[0m\n",
            "\u001b[0;31mValueError\u001b[0m: shapes (2,60) and (41,1) not aligned: 60 (dim 1) != 41 (dim 0)"
          ]
        }
      ]
    }
  ]
}